{
 "cells": [
  {
   "cell_type": "code",
   "execution_count": 13,
   "metadata": {},
   "outputs": [],
   "source": [
    "import pandas as pd\n",
    "import matplotlib.pyplot as plt\n",
    "import os\n",
    "import numpy as np"
   ]
  },
  {
   "cell_type": "code",
   "execution_count": 14,
   "metadata": {},
   "outputs": [
    {
     "data": {
      "text/html": [
       "<div>\n",
       "<style scoped>\n",
       "    .dataframe tbody tr th:only-of-type {\n",
       "        vertical-align: middle;\n",
       "    }\n",
       "\n",
       "    .dataframe tbody tr th {\n",
       "        vertical-align: top;\n",
       "    }\n",
       "\n",
       "    .dataframe thead th {\n",
       "        text-align: right;\n",
       "    }\n",
       "</style>\n",
       "<table border=\"1\" class=\"dataframe\">\n",
       "  <thead>\n",
       "    <tr style=\"text-align: right;\">\n",
       "      <th></th>\n",
       "      <th>kin</th>\n",
       "      <th>pot</th>\n",
       "      <th>tot</th>\n",
       "      <th>temp</th>\n",
       "    </tr>\n",
       "  </thead>\n",
       "  <tbody>\n",
       "    <tr>\n",
       "      <th>0</th>\n",
       "      <td>41.1976</td>\n",
       "      <td>-142.594</td>\n",
       "      <td>-101.396</td>\n",
       "      <td>0.549302</td>\n",
       "    </tr>\n",
       "    <tr>\n",
       "      <th>1</th>\n",
       "      <td>38.6927</td>\n",
       "      <td>-142.594</td>\n",
       "      <td>-103.901</td>\n",
       "      <td>0.515902</td>\n",
       "    </tr>\n",
       "    <tr>\n",
       "      <th>2</th>\n",
       "      <td>36.4272</td>\n",
       "      <td>-142.594</td>\n",
       "      <td>-106.167</td>\n",
       "      <td>0.485696</td>\n",
       "    </tr>\n",
       "    <tr>\n",
       "      <th>3</th>\n",
       "      <td>34.3784</td>\n",
       "      <td>-142.594</td>\n",
       "      <td>-108.216</td>\n",
       "      <td>0.458378</td>\n",
       "    </tr>\n",
       "    <tr>\n",
       "      <th>4</th>\n",
       "      <td>32.5255</td>\n",
       "      <td>-142.594</td>\n",
       "      <td>-110.069</td>\n",
       "      <td>0.433673</td>\n",
       "    </tr>\n",
       "    <tr>\n",
       "      <th>...</th>\n",
       "      <td>...</td>\n",
       "      <td>...</td>\n",
       "      <td>...</td>\n",
       "      <td>...</td>\n",
       "    </tr>\n",
       "    <tr>\n",
       "      <th>95</th>\n",
       "      <td>15.0019</td>\n",
       "      <td>-142.594</td>\n",
       "      <td>-127.592</td>\n",
       "      <td>0.200025</td>\n",
       "    </tr>\n",
       "    <tr>\n",
       "      <th>96</th>\n",
       "      <td>15.0017</td>\n",
       "      <td>-142.594</td>\n",
       "      <td>-127.592</td>\n",
       "      <td>0.200023</td>\n",
       "    </tr>\n",
       "    <tr>\n",
       "      <th>97</th>\n",
       "      <td>15.0015</td>\n",
       "      <td>-142.594</td>\n",
       "      <td>-127.593</td>\n",
       "      <td>0.200020</td>\n",
       "    </tr>\n",
       "    <tr>\n",
       "      <th>98</th>\n",
       "      <td>15.0014</td>\n",
       "      <td>-142.594</td>\n",
       "      <td>-127.593</td>\n",
       "      <td>0.200018</td>\n",
       "    </tr>\n",
       "    <tr>\n",
       "      <th>99</th>\n",
       "      <td>15.0013</td>\n",
       "      <td>-142.594</td>\n",
       "      <td>-127.593</td>\n",
       "      <td>0.200017</td>\n",
       "    </tr>\n",
       "  </tbody>\n",
       "</table>\n",
       "<p>100 rows × 4 columns</p>\n",
       "</div>"
      ],
      "text/plain": [
       "        kin      pot      tot      temp\n",
       "0   41.1976 -142.594 -101.396  0.549302\n",
       "1   38.6927 -142.594 -103.901  0.515902\n",
       "2   36.4272 -142.594 -106.167  0.485696\n",
       "3   34.3784 -142.594 -108.216  0.458378\n",
       "4   32.5255 -142.594 -110.069  0.433673\n",
       "..      ...      ...      ...       ...\n",
       "95  15.0019 -142.594 -127.592  0.200025\n",
       "96  15.0017 -142.594 -127.592  0.200023\n",
       "97  15.0015 -142.594 -127.593  0.200020\n",
       "98  15.0014 -142.594 -127.593  0.200018\n",
       "99  15.0013 -142.594 -127.593  0.200017\n",
       "\n",
       "[100 rows x 4 columns]"
      ]
     },
     "execution_count": 14,
     "metadata": {},
     "output_type": "execute_result"
    }
   ],
   "source": [
    "path = \"/home/sauerbach/HPC/MolecularDynamics/milestones/05/static/test.csv\"\n",
    "names = ['kin', 'pot', 'tot', 'temp']\n",
    "\n",
    "\n",
    "df = pd.read_csv(path, names = names, sep=r\"\\s+\", header=None)\n",
    "df"
   ]
  },
  {
   "cell_type": "code",
   "execution_count": 20,
   "metadata": {},
   "outputs": [
    {
     "data": {
      "text/plain": [
       "<matplotlib.legend.Legend at 0x7ff35c4516a0>"
      ]
     },
     "execution_count": 20,
     "metadata": {},
     "output_type": "execute_result"
    },
    {
     "data": {
      "image/png": "[encoded data removed]",
      "text/plain": [
       "<Figure size 432x288 with 1 Axes>"
      ]
     },
     "metadata": {
      "needs_background": "light"
     },
     "output_type": "display_data"
    }
   ],
   "source": [
    "x = np.linspace(0, 10, 100)\n",
    "t0 = 0.2\n",
    "y = t0 + (0.55283-t0)*np.exp(-(x+0.2)/1)\n",
    "\n",
    "plt.plot(x, df.temp, label='Berendsen temperature scaling')\n",
    "plt.plot(x, y, label='Analytical solution')\n",
    "plt.grid()\n",
    "plt.legend()"
   ]
  },
  {
   "cell_type": "code",
   "execution_count": 67,
   "metadata": {},
   "outputs": [
    {
     "data": {
      "text/plain": [
       "0.4609345640334295"
      ]
     },
     "execution_count": 67,
     "metadata": {},
     "output_type": "execute_result"
    }
   ],
   "source": [
    "t0 = 0.2\n",
    "t = 0.463557\n",
    "t0 + (t - t0)*np.exp(-0.01)"
   ]
  },
  {
   "cell_type": "code",
   "execution_count": 79,
   "metadata": {},
   "outputs": [
    {
     "data": {
      "text/plain": [
       "0.453886"
      ]
     },
     "execution_count": 79,
     "metadata": {},
     "output_type": "execute_result"
    }
   ],
   "source": [
    "df.temp.max()"
   ]
  },
  {
   "cell_type": "code",
   "execution_count": null,
   "metadata": {},
   "outputs": [],
   "source": []
  }
 ],
 "metadata": {
  "kernelspec": {
   "display_name": "Python 3.8.10 64-bit",
   "language": "python",
   "name": "python3"
  },
  "language_info": {
   "codemirror_mode": {
    "name": "ipython",
    "version": 3
   },
   "file_extension": ".py",
   "mimetype": "text/x-python",
   "name": "python",
   "nbconvert_exporter": "python",
   "pygments_lexer": "ipython3",
   "version": "3.8.10"
  },
  "orig_nbformat": 4,
  "vscode": {
   "interpreter": {
    "hash": "916dbcbb3f70747c44a77c7bcd40155683ae19c65e1c03b4aa3499c5328201f1"
   }
  }
 },
 "nbformat": 4,
 "nbformat_minor": 2
}
